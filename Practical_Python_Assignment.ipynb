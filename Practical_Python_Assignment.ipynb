{
  "cells": [
    {
      "cell_type": "markdown",
      "metadata": {},
      "source": [
        "# Practical Python \u2013 Error Handling, Logging, and Data Manipulation\n",
        "### Assignment Code: DA-AG-003\n",
        "**Short academic explanations with working code.**"
      ]
    },
    {
      "cell_type": "code",
      "metadata": {},
      "source": [
        "# Question 1: Difference between multithreading and multiprocessing\n",
        "print('Multithreading runs multiple threads within a single process, sharing memory.')\n",
        "print('Multiprocessing runs multiple independent processes with separate memory for true parallelism.')"
      ]
    },
    {
      "cell_type": "code",
      "metadata": {},
      "source": [
        "# Question 2: Challenges in memory management in Python\n",
        "challenges = ['Reference cycles', 'Large data structures', 'Garbage collection overhead', 'Delayed memory freeing']\n",
        "for c in challenges:\n",
        "    print('-', c)"
      ]
    },
    {
      "cell_type": "code",
      "metadata": {},
      "source": [
        "# Question 3: Log an error message to a file when division by zero occurs\n",
        "import logging\n",
        "logging.basicConfig(filename='error.log', level=logging.ERROR)\n",
        "try:\n",
        "    result = 10 / 0\n",
        "except ZeroDivisionError as e:\n",
        "    logging.error(f'Division by zero occurred: {e}')"
      ]
    },
    {
      "cell_type": "code",
      "metadata": {},
      "source": [
        "# Question 4: Read from one file and write to another\n",
        "with open('source.txt', 'r') as src:\n",
        "    content = src.read()\n",
        "with open('destination.txt', 'w') as dest:\n",
        "    dest.write(content)"
      ]
    },
    {
      "cell_type": "code",
      "metadata": {},
      "source": [
        "# Question 5: Handle IndexError and KeyError\n",
        "try:\n",
        "    lst = [1, 2, 3]\n",
        "    print(lst[5])\n",
        "    d = {'a': 1}\n",
        "    print(d['b'])\n",
        "except IndexError:\n",
        "    print('Index out of range error occurred.')\n",
        "except KeyError:\n",
        "    print('Key not found in dictionary.')"
      ]
    },
    {
      "cell_type": "code",
      "metadata": {},
      "source": [
        "# Question 6: Differences between NumPy arrays and Python lists\n",
        "print('1. NumPy arrays are faster and support vectorized operations.')\n",
        "print('2. Require same data type elements.')\n",
        "print('3. Lists can hold mixed data types.')"
      ]
    },
    {
      "cell_type": "code",
      "metadata": {},
      "source": [
        "# Question 7: Difference between apply() and map() in Pandas\n",
        "import pandas as pd\n",
        "df = pd.DataFrame({'A':[1,2,3],'B':[4,5,6]})\n",
        "print(df['A'].map(lambda x: x*2))\n",
        "print(df.apply(lambda x: x.sum()))"
      ]
    },
    {
      "cell_type": "code",
      "metadata": {},
      "source": [
        "# Question 8: Create a histogram using Seaborn\n",
        "import seaborn as sns\n",
        "import matplotlib.pyplot as plt\n",
        "sns.set(style='whitegrid')\n",
        "data = sns.load_dataset('tips')\n",
        "sns.histplot(data['total_bill'], kde=True)\n",
        "plt.title('Distribution of Total Bill')\n",
        "plt.show()"
      ]
    },
    {
      "cell_type": "code",
      "metadata": {},
      "source": [
        "# Question 9: Load CSV and display first 5 rows\n",
        "df = pd.read_csv('data.csv')\n",
        "print(df.head())"
      ]
    },
    {
      "cell_type": "code",
      "metadata": {},
      "source": [
        "# Question 10: Correlation matrix heatmap using Seaborn\n",
        "corr = df.corr()\n",
        "sns.heatmap(corr, annot=True, cmap='coolwarm')\n",
        "plt.title('Correlation Heatmap')\n",
        "plt.show()"
      ]
    }
  ],
  "metadata": {
    "kernelspec": {
      "display_name": "Python 3",
      "language": "python",
      "name": "python3"
    }
  },
  "nbformat": 4,
  "nbformat_minor": 2
}